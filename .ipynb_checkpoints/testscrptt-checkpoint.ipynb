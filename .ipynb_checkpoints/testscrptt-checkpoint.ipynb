{
 "cells": [
  {
   "cell_type": "code",
   "execution_count": 1,
   "metadata": {},
   "outputs": [],
   "source": [
    "from sklearn.ensemble import RandomForestRegressor\n",
    "from sklearn.preprocessing import OneHotEncoder\n",
    "from sklearn.compose import ColumnTransformer\n",
    "from sklearn.impute import SimpleImputer\n",
    "from sklearn.model_selection import cross_val_score,RandomizedSearchCV,train_test_split\n",
    "import numpy as np,pandas as pd,pickle"
   ]
  },
  {
   "cell_type": "code",
   "execution_count": 2,
   "metadata": {},
   "outputs": [
    {
     "data": {
      "text/plain": [
       "-2.8554558188775507"
      ]
     },
     "execution_count": 2,
     "metadata": {},
     "output_type": "execute_result"
    }
   ],
   "source": [
    "dataframe = pd.read_csv(\"./car-sales.csv\")\n",
    "y = dataframe[\"Price\"].str.replace(\"[\\$\\.\\,]\" , \"\").astype(int)\n",
    "x = dataframe.drop(\"Price\" , axis = 1)\n",
    "cat_features = [\n",
    "        \"Make\",\n",
    "        \"Colour\",\n",
    "        \"Doors\",\n",
    "]\n",
    "oneencoder = OneHotEncoder()\n",
    "transformer = ColumnTransformer([\n",
    "    (\"onehot\" ,oneencoder, cat_features)\n",
    "],remainder=\"passthrough\")\n",
    "transformered_x = transformer.fit_transform(x)\n",
    "transformered_x = pd.get_dummies(dataframe[cat_features])\n",
    "x_train , x_test , y_train,y_test = train_test_split(transformered_x , y , test_size = .2)\n",
    "regressor = RandomForestRegressor(n_estimators=100)\n",
    "regressor.fit(x_train , y_train)\n",
    "regressor.score(x_test , y_test)"
   ]
  },
  {
   "cell_type": "code",
   "execution_count": null,
   "metadata": {},
   "outputs": [],
   "source": []
  },
  {
   "cell_type": "code",
   "execution_count": null,
   "metadata": {},
   "outputs": [],
   "source": []
  }
 ],
 "metadata": {
  "kernelspec": {
   "display_name": "Python 3",
   "language": "python",
   "name": "python3"
  },
  "language_info": {
   "codemirror_mode": {
    "name": "ipython",
    "version": 3
   },
   "file_extension": ".py",
   "mimetype": "text/x-python",
   "name": "python",
   "nbconvert_exporter": "python",
   "pygments_lexer": "ipython3",
   "version": "3.7.4"
  }
 },
 "nbformat": 4,
 "nbformat_minor": 4
}
